{
 "cells": [
  {
   "cell_type": "markdown",
   "metadata": {},
   "source": [
    "- Install library pendukung (via anaconda prompt): \n",
    "```\n",
    "conda install -c conda-forge flask\n",
    "conda install -c conda-forge flask-uploads\n",
    "conda install -c conda-forge flask-wtf\n",
    "conda install -c conda-forge wtforms\n",
    "```"
   ]
  },
  {
   "cell_type": "code",
   "execution_count": null,
   "metadata": {},
   "outputs": [
    {
     "name": "stdout",
     "output_type": "stream",
     "text": [
      " * Serving Flask app \"__main__\" (lazy loading)\n",
      " * Environment: production\n",
      "   WARNING: This is a development server. Do not use it in a production deployment.\n",
      "   Use a production WSGI server instead.\n",
      " * Debug mode: off\n"
     ]
    },
    {
     "name": "stderr",
     "output_type": "stream",
     "text": [
      " * Running on http://127.0.0.1:5000/ (Press CTRL+C to quit)\n",
      "[2020-07-10 17:51:17,626] ERROR in app: Exception on / [GET]\n",
      "Traceback (most recent call last):\n",
      "  File \"C:\\Users\\yunus\\Anaconda3\\envs\\ROOT\\lib\\site-packages\\flask\\app.py\", line 2446, in wsgi_app\n",
      "    response = self.full_dispatch_request()\n",
      "  File \"C:\\Users\\yunus\\Anaconda3\\envs\\ROOT\\lib\\site-packages\\flask\\app.py\", line 1951, in full_dispatch_request\n",
      "    rv = self.handle_user_exception(e)\n",
      "  File \"C:\\Users\\yunus\\Anaconda3\\envs\\ROOT\\lib\\site-packages\\flask\\app.py\", line 1820, in handle_user_exception\n",
      "    reraise(exc_type, exc_value, tb)\n",
      "  File \"C:\\Users\\yunus\\Anaconda3\\envs\\ROOT\\lib\\site-packages\\flask\\_compat.py\", line 39, in reraise\n",
      "    raise value\n",
      "  File \"C:\\Users\\yunus\\Anaconda3\\envs\\ROOT\\lib\\site-packages\\flask\\app.py\", line 1949, in full_dispatch_request\n",
      "    rv = self.dispatch_request()\n",
      "  File \"C:\\Users\\yunus\\Anaconda3\\envs\\ROOT\\lib\\site-packages\\flask\\app.py\", line 1935, in dispatch_request\n",
      "    return self.view_functions[rule.endpoint](**req.view_args)\n",
      "  File \"<ipython-input-1-e439c0b05ae6>\", line 34, in upload_file\n",
      "    image = b64encode(img_file).decode(\"utf-8\")\n",
      "  File \"C:\\Users\\yunus\\Anaconda3\\envs\\ROOT\\lib\\base64.py\", line 58, in b64encode\n",
      "    encoded = binascii.b2a_base64(s, newline=False)\n",
      "TypeError: a bytes-like object is required, not '_io.BufferedReader'\n",
      "127.0.0.1 - - [10/Jul/2020 17:51:17] \"\u001b[1m\u001b[35mGET / HTTP/1.1\u001b[0m\" 500 -\n"
     ]
    }
   ],
   "source": [
    "# -*- coding: utf-8 -*-\n",
    "import os\n",
    "import time\n",
    "import requests\n",
    "from base64 import b64encode\n",
    "\n",
    "from flask import Flask, render_template, redirect, url_for, request, send_from_directory\n",
    "from flask_uploads import UploadSet, configure_uploads, IMAGES, patch_request_class\n",
    "from flask_wtf import FlaskForm\n",
    "from flask_wtf.file import FileField, FileRequired, FileAllowed\n",
    "from wtforms import SubmitField\n",
    "\n",
    "\n",
    "app = Flask(__name__)\n",
    "app.config['SECRET_KEY'] = 'deepcognition API test'\n",
    "app.config['UPLOADED_PHOTOS_DEST'] = 'uploads/' # you'll need to create a folder named uploads\n",
    "\n",
    "API_URL = 'http://127.0.0.1:8881/models/mnist/v1/predict'\n",
    "\n",
    "photos = UploadSet('photos', IMAGES)\n",
    "configure_uploads(app, photos)\n",
    "patch_request_class(app)  # set maximum file size, default is 16MB\n",
    "\n",
    "\n",
    "class UploadForm(FlaskForm):\n",
    "    photo = FileField(validators=[FileAllowed(photos, 'Image Only!'), FileRequired('Choose a file!')])\n",
    "    submit = SubmitField('Upload')\n",
    "\n",
    "\n",
    "@app.route('/', methods=['GET', 'POST'])\n",
    "def upload_file():\n",
    "    resp = {}\n",
    "    img_file = open(app.config['UPLOADED_PHOTOS_DEST'] + \"placeholder.png\",  'rb') \n",
    "    image = b64encode(img_file.read()).decode(\"utf-8\")\n",
    "    \n",
    "    form = UploadForm()\n",
    "    if form.validate_on_submit():\n",
    "        for filename in request.files.getlist('photo'):\n",
    "            name = str(time.time())\n",
    "            photos.save(filename)\n",
    "            \n",
    "            saved_file = open( app.config['UPLOADED_PHOTOS_DEST'] + filename.filename, 'rb')\n",
    "            image = b64encode(saved_file.read()).decode(\"utf-8\")\n",
    "            \n",
    "            files = {'Image': saved_file}\n",
    "            values = {'key': 'Image'}\n",
    "\n",
    "            r = requests.post(API_URL, files=files, data=values)\n",
    "            if r.status_code == requests.codes.ok:\n",
    "                resp = r.json()\n",
    "                success = True\n",
    "            else :\n",
    "                success = False\n",
    "                resp = {'status' : 'BAD'}\n",
    "    else:\n",
    "        success = False\n",
    "        resp = {'status' : 'BAD'}\n",
    "    return render_template('index.html', \n",
    "                           form=form, \n",
    "                           success=success, \n",
    "                           response=resp, \n",
    "                           img=image)\n",
    "\n",
    "\n",
    "@app.route('/manage')\n",
    "def manage_file():\n",
    "    files_list = os.listdir(app.config['UPLOADED_PHOTOS_DEST'])\n",
    "    return render_template('manage.html', files_list=files_list)\n",
    "\n",
    "\n",
    "@app.route('/open/<filename>')\n",
    "def open_file(filename):\n",
    "    file_url = photos.url(filename)\n",
    "    return render_template('browser.html', file_url=file_url)\n",
    "\n",
    "\n",
    "@app.route('/delete/<filename>')\n",
    "def delete_file(filename):\n",
    "    file_path = photos.path(filename)\n",
    "    os.remove(file_path)\n",
    "    return redirect(url_for('manage_file'))\n",
    "\n",
    "\n",
    "if __name__ == '__main__':\n",
    "    app.run()"
   ]
  },
  {
   "cell_type": "markdown",
   "metadata": {},
   "source": [
    "source : https://gist.github.com/greyli/ca74d71f13c52d089a8da8d2b758d519"
   ]
  },
  {
   "cell_type": "code",
   "execution_count": null,
   "metadata": {},
   "outputs": [],
   "source": []
  }
 ],
 "metadata": {
  "kernelspec": {
   "display_name": "Python 3",
   "language": "python",
   "name": "python3"
  },
  "language_info": {
   "codemirror_mode": {
    "name": "ipython",
    "version": 3
   },
   "file_extension": ".py",
   "mimetype": "text/x-python",
   "name": "python",
   "nbconvert_exporter": "python",
   "pygments_lexer": "ipython3",
   "version": "3.7.6"
  }
 },
 "nbformat": 4,
 "nbformat_minor": 4
}
